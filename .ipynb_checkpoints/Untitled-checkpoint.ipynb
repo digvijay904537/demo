{
 "cells": [
  {
   "cell_type": "code",
   "execution_count": 3,
   "id": "c2324244",
   "metadata": {},
   "outputs": [
    {
     "name": "stdout",
     "output_type": "stream",
     "text": [
      "hello world\n"
     ]
    }
   ],
   "source": [
    "print(\"hello world\")"
   ]
  },
  {
   "cell_type": "code",
   "execution_count": 4,
   "id": "787a44b0",
   "metadata": {},
   "outputs": [
    {
     "name": "stdout",
     "output_type": "stream",
     "text": [
      "demo\n"
     ]
    }
   ],
   "source": [
    "print('demo')"
   ]
  },
  {
   "cell_type": "code",
   "execution_count": 5,
   "id": "6ebabcaf",
   "metadata": {},
   "outputs": [
    {
     "name": "stdout",
     "output_type": "stream",
     "text": [
      "rom rom bhaiyo\n"
     ]
    }
   ],
   "source": [
    "print('rom rom bhaiyo')"
   ]
  },
  {
   "cell_type": "code",
   "execution_count": null,
   "id": "73c932bc",
   "metadata": {},
   "outputs": [],
   "source": []
  }
 ],
 "metadata": {
  "kernelspec": {
   "display_name": "Python 3 (ipykernel)",
   "language": "python",
   "name": "python3"
  },
  "language_info": {
   "codemirror_mode": {
    "name": "ipython",
    "version": 3
   },
   "file_extension": ".py",
   "mimetype": "text/x-python",
   "name": "python",
   "nbconvert_exporter": "python",
   "pygments_lexer": "ipython3",
   "version": "3.10.9"
  }
 },
 "nbformat": 4,
 "nbformat_minor": 5
}
